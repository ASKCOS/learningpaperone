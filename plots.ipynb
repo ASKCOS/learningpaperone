{
 "metadata": {
  "name": ""
 },
 "nbformat": 3,
 "nbformat_minor": 0,
 "worksheets": [
  {
   "cells": [
    {
     "cell_type": "code",
     "collapsed": false,
     "input": [
      "def load_data(what):\n",
      "    data=[]\n",
      "    with open(what,'r') as f:\n",
      "        for line in f.readlines():\n",
      "            line=line.split('\\t')\n",
      "            data.append({'value':float(line[0]),'frag':line[1]})\n",
      "    return data[::-1] #reverse sort with higher counts top"
     ],
     "language": "python",
     "metadata": {},
     "outputs": [],
     "prompt_number": 1
    },
    {
     "cell_type": "code",
     "collapsed": false,
     "input": [
      "fragnums = [10,30,60,100,200,400]\n",
      "data={}\n",
      "for fname in [\"smarts_stats_\"+str(x)+\".tsv\" for x in fragnums]:\n",
      "    data[fname]=load_data(fname)\n",
      "\n",
      "for fname in [\"english_segmentation/en_stats_\"+str(x)+\".tsv\" for x in fragnums]:\n",
      "    data[fname]=load_data(fname)\n",
      "    \n",
      "data[\"fg_smarts_stats.tsv\"]=load_data(\"fg_smarts_stats.tsv\")\n",
      "\n",
      "print len(data)\n",
      "import csv"
     ],
     "language": "python",
     "metadata": {},
     "outputs": [
      {
       "output_type": "stream",
       "stream": "stdout",
       "text": [
        "13\n"
       ]
      }
     ],
     "prompt_number": 2
    },
    {
     "cell_type": "code",
     "collapsed": false,
     "input": [
      "print(data.keys())"
     ],
     "language": "python",
     "metadata": {},
     "outputs": [
      {
       "output_type": "stream",
       "stream": "stdout",
       "text": [
        "['smarts_stats_60.tsv', 'smarts_stats_30.tsv', 'english_segmentation/en_stats_200.tsv', 'smarts_stats_200.tsv', 'smarts_stats_100.tsv', 'fg_smarts_stats.tsv', 'english_segmentation/en_stats_10.tsv', 'smarts_stats_10.tsv', 'smarts_stats_400.tsv', 'english_segmentation/en_stats_60.tsv', 'english_segmentation/en_stats_30.tsv', 'english_segmentation/en_stats_400.tsv', 'english_segmentation/en_stats_100.tsv']\n"
       ]
      }
     ],
     "prompt_number": 3
    },
    {
     "cell_type": "code",
     "collapsed": false,
     "input": [
      "print [x for x in [(k, len(v)) for k,v in data.iteritems()]]\n",
      "\n",
      "\n",
      "\n",
      "        "
     ],
     "language": "python",
     "metadata": {},
     "outputs": [
      {
       "output_type": "stream",
       "stream": "stdout",
       "text": [
        "[('smarts_stats_60.tsv', 673), ('smarts_stats_30.tsv', 374), ('english_segmentation/en_stats_200.tsv', 3345), ('smarts_stats_200.tsv', 3365), ('smarts_stats_100.tsv', 1331), ('fg_smarts_stats.tsv', 207), ('english_segmentation/en_stats_10.tsv', 40), ('smarts_stats_10.tsv', 242), ('smarts_stats_400.tsv', 8305), ('english_segmentation/en_stats_60.tsv', 636), ('english_segmentation/en_stats_30.tsv', 209), ('english_segmentation/en_stats_400.tsv', 8146), ('english_segmentation/en_stats_100.tsv', 1389)]\n"
       ]
      }
     ],
     "prompt_number": 11
    },
    {
     "cell_type": "code",
     "collapsed": false,
     "input": [
      "from matplotlib import pyplot as plt\n",
      "props = dict( alpha=0.5, edgecolors='none' )\n",
      "plots =[]\n",
      "for k in data.keys():\n",
      "    plots.append( \n",
      "        plt.scatter(\n",
      "            range(len(data[k])), #x (rank)\n",
      "            [x['value']/10000.0 for x in data[k]] #y (counts)\n",
      "            )\n",
      "        )\n",
      "plt.show()"
     ],
     "language": "python",
     "metadata": {},
     "outputs": [],
     "prompt_number": "*"
    },
    {
     "cell_type": "code",
     "collapsed": false,
     "input": [],
     "language": "python",
     "metadata": {},
     "outputs": []
    }
   ],
   "metadata": {}
  }
 ]
}